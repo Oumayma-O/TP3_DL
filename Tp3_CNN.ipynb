{
  "nbformat": 4,
  "nbformat_minor": 0,
  "metadata": {
    "colab": {
      "provenance": [],
      "gpuType": "T4",
      "include_colab_link": true
    },
    "kernelspec": {
      "name": "python3",
      "display_name": "Python 3"
    },
    "language_info": {
      "name": "python"
    },
    "accelerator": "GPU"
  },
  "cells": [
    {
      "cell_type": "markdown",
      "metadata": {
        "id": "view-in-github",
        "colab_type": "text"
      },
      "source": [
        "<a href=\"https://colab.research.google.com/github/Oumayma-O/TP3_DL/blob/main/Tp3_CNN.ipynb\" target=\"_parent\"><img src=\"https://colab.research.google.com/assets/colab-badge.svg\" alt=\"Open In Colab\"/></a>"
      ]
    },
    {
      "cell_type": "code",
      "source": [
        "!pip install tensorflow\n"
      ],
      "metadata": {
        "colab": {
          "base_uri": "https://localhost:8080/"
        },
        "id": "4r_5H0rlRvST",
        "outputId": "923865b8-14fe-48c1-d6bd-187ee9367a33"
      },
      "execution_count": null,
      "outputs": [
        {
          "output_type": "stream",
          "name": "stdout",
          "text": [
            "Requirement already satisfied: tensorflow in /usr/local/lib/python3.10/dist-packages (2.15.0)\n",
            "Requirement already satisfied: absl-py>=1.0.0 in /usr/local/lib/python3.10/dist-packages (from tensorflow) (1.4.0)\n",
            "Requirement already satisfied: astunparse>=1.6.0 in /usr/local/lib/python3.10/dist-packages (from tensorflow) (1.6.3)\n",
            "Requirement already satisfied: flatbuffers>=23.5.26 in /usr/local/lib/python3.10/dist-packages (from tensorflow) (24.3.25)\n",
            "Requirement already satisfied: gast!=0.5.0,!=0.5.1,!=0.5.2,>=0.2.1 in /usr/local/lib/python3.10/dist-packages (from tensorflow) (0.5.4)\n",
            "Requirement already satisfied: google-pasta>=0.1.1 in /usr/local/lib/python3.10/dist-packages (from tensorflow) (0.2.0)\n",
            "Requirement already satisfied: h5py>=2.9.0 in /usr/local/lib/python3.10/dist-packages (from tensorflow) (3.9.0)\n",
            "Requirement already satisfied: libclang>=13.0.0 in /usr/local/lib/python3.10/dist-packages (from tensorflow) (18.1.1)\n",
            "Requirement already satisfied: ml-dtypes~=0.2.0 in /usr/local/lib/python3.10/dist-packages (from tensorflow) (0.2.0)\n",
            "Requirement already satisfied: numpy<2.0.0,>=1.23.5 in /usr/local/lib/python3.10/dist-packages (from tensorflow) (1.25.2)\n",
            "Requirement already satisfied: opt-einsum>=2.3.2 in /usr/local/lib/python3.10/dist-packages (from tensorflow) (3.3.0)\n",
            "Requirement already satisfied: packaging in /usr/local/lib/python3.10/dist-packages (from tensorflow) (24.0)\n",
            "Requirement already satisfied: protobuf!=4.21.0,!=4.21.1,!=4.21.2,!=4.21.3,!=4.21.4,!=4.21.5,<5.0.0dev,>=3.20.3 in /usr/local/lib/python3.10/dist-packages (from tensorflow) (3.20.3)\n",
            "Requirement already satisfied: setuptools in /usr/local/lib/python3.10/dist-packages (from tensorflow) (67.7.2)\n",
            "Requirement already satisfied: six>=1.12.0 in /usr/local/lib/python3.10/dist-packages (from tensorflow) (1.16.0)\n",
            "Requirement already satisfied: termcolor>=1.1.0 in /usr/local/lib/python3.10/dist-packages (from tensorflow) (2.4.0)\n",
            "Requirement already satisfied: typing-extensions>=3.6.6 in /usr/local/lib/python3.10/dist-packages (from tensorflow) (4.11.0)\n",
            "Requirement already satisfied: wrapt<1.15,>=1.11.0 in /usr/local/lib/python3.10/dist-packages (from tensorflow) (1.14.1)\n",
            "Requirement already satisfied: tensorflow-io-gcs-filesystem>=0.23.1 in /usr/local/lib/python3.10/dist-packages (from tensorflow) (0.36.0)\n",
            "Requirement already satisfied: grpcio<2.0,>=1.24.3 in /usr/local/lib/python3.10/dist-packages (from tensorflow) (1.62.2)\n",
            "Requirement already satisfied: tensorboard<2.16,>=2.15 in /usr/local/lib/python3.10/dist-packages (from tensorflow) (2.15.2)\n",
            "Requirement already satisfied: tensorflow-estimator<2.16,>=2.15.0 in /usr/local/lib/python3.10/dist-packages (from tensorflow) (2.15.0)\n",
            "Requirement already satisfied: keras<2.16,>=2.15.0 in /usr/local/lib/python3.10/dist-packages (from tensorflow) (2.15.0)\n",
            "Requirement already satisfied: wheel<1.0,>=0.23.0 in /usr/local/lib/python3.10/dist-packages (from astunparse>=1.6.0->tensorflow) (0.43.0)\n",
            "Requirement already satisfied: google-auth<3,>=1.6.3 in /usr/local/lib/python3.10/dist-packages (from tensorboard<2.16,>=2.15->tensorflow) (2.27.0)\n",
            "Requirement already satisfied: google-auth-oauthlib<2,>=0.5 in /usr/local/lib/python3.10/dist-packages (from tensorboard<2.16,>=2.15->tensorflow) (1.2.0)\n",
            "Requirement already satisfied: markdown>=2.6.8 in /usr/local/lib/python3.10/dist-packages (from tensorboard<2.16,>=2.15->tensorflow) (3.6)\n",
            "Requirement already satisfied: requests<3,>=2.21.0 in /usr/local/lib/python3.10/dist-packages (from tensorboard<2.16,>=2.15->tensorflow) (2.31.0)\n",
            "Requirement already satisfied: tensorboard-data-server<0.8.0,>=0.7.0 in /usr/local/lib/python3.10/dist-packages (from tensorboard<2.16,>=2.15->tensorflow) (0.7.2)\n",
            "Requirement already satisfied: werkzeug>=1.0.1 in /usr/local/lib/python3.10/dist-packages (from tensorboard<2.16,>=2.15->tensorflow) (3.0.2)\n",
            "Requirement already satisfied: cachetools<6.0,>=2.0.0 in /usr/local/lib/python3.10/dist-packages (from google-auth<3,>=1.6.3->tensorboard<2.16,>=2.15->tensorflow) (5.3.3)\n",
            "Requirement already satisfied: pyasn1-modules>=0.2.1 in /usr/local/lib/python3.10/dist-packages (from google-auth<3,>=1.6.3->tensorboard<2.16,>=2.15->tensorflow) (0.4.0)\n",
            "Requirement already satisfied: rsa<5,>=3.1.4 in /usr/local/lib/python3.10/dist-packages (from google-auth<3,>=1.6.3->tensorboard<2.16,>=2.15->tensorflow) (4.9)\n",
            "Requirement already satisfied: requests-oauthlib>=0.7.0 in /usr/local/lib/python3.10/dist-packages (from google-auth-oauthlib<2,>=0.5->tensorboard<2.16,>=2.15->tensorflow) (1.3.1)\n",
            "Requirement already satisfied: charset-normalizer<4,>=2 in /usr/local/lib/python3.10/dist-packages (from requests<3,>=2.21.0->tensorboard<2.16,>=2.15->tensorflow) (3.3.2)\n",
            "Requirement already satisfied: idna<4,>=2.5 in /usr/local/lib/python3.10/dist-packages (from requests<3,>=2.21.0->tensorboard<2.16,>=2.15->tensorflow) (3.7)\n",
            "Requirement already satisfied: urllib3<3,>=1.21.1 in /usr/local/lib/python3.10/dist-packages (from requests<3,>=2.21.0->tensorboard<2.16,>=2.15->tensorflow) (2.0.7)\n",
            "Requirement already satisfied: certifi>=2017.4.17 in /usr/local/lib/python3.10/dist-packages (from requests<3,>=2.21.0->tensorboard<2.16,>=2.15->tensorflow) (2024.2.2)\n",
            "Requirement already satisfied: MarkupSafe>=2.1.1 in /usr/local/lib/python3.10/dist-packages (from werkzeug>=1.0.1->tensorboard<2.16,>=2.15->tensorflow) (2.1.5)\n",
            "Requirement already satisfied: pyasn1<0.7.0,>=0.4.6 in /usr/local/lib/python3.10/dist-packages (from pyasn1-modules>=0.2.1->google-auth<3,>=1.6.3->tensorboard<2.16,>=2.15->tensorflow) (0.6.0)\n",
            "Requirement already satisfied: oauthlib>=3.0.0 in /usr/local/lib/python3.10/dist-packages (from requests-oauthlib>=0.7.0->google-auth-oauthlib<2,>=0.5->tensorboard<2.16,>=2.15->tensorflow) (3.2.2)\n"
          ]
        }
      ]
    },
    {
      "cell_type": "code",
      "execution_count": null,
      "metadata": {
        "id": "XeWgUeoOOnmL"
      },
      "outputs": [],
      "source": [
        "import tensorflow as tf\n",
        "from tensorflow import keras\n",
        "from keras.utils import to_categorical"
      ]
    },
    {
      "cell_type": "code",
      "source": [
        "import numpy as np\n",
        "from keras.datasets import mnist\n",
        "from keras import backend as K\n",
        "K.set_image_data_format('channels_first')\n",
        "#fix random seed for reproducibility\n",
        "seed = 7\n",
        "np.random.seed(seed)\n",
        "from keras.models import Sequential\n",
        "from keras.layers import Dense\n",
        "from keras.layers import Dropout\n",
        "from keras.layers import Flatten\n",
        "from keras.layers import Conv2D\n",
        "from keras.layers import MaxPooling2D"
      ],
      "metadata": {
        "id": "uWTTDK98RLX8"
      },
      "execution_count": null,
      "outputs": []
    },
    {
      "cell_type": "code",
      "source": [
        "#load data\n",
        "(X_train, y_train),(X_test, y_test)= mnist.load_data()"
      ],
      "metadata": {
        "colab": {
          "base_uri": "https://localhost:8080/"
        },
        "id": "TDhnbL5eS3oF",
        "outputId": "b4a74b7d-6e38-4fd4-ba5f-1f672d9fcc54"
      },
      "execution_count": null,
      "outputs": [
        {
          "output_type": "stream",
          "name": "stdout",
          "text": [
            "Downloading data from https://storage.googleapis.com/tensorflow/tf-keras-datasets/mnist.npz\n",
            "11490434/11490434 [==============================] - 1s 0us/step\n"
          ]
        }
      ]
    },
    {
      "cell_type": "code",
      "source": [
        "\n",
        "# Load the MNIST dataset\n",
        "(X_train, y_train), (X_test, y_test) = mnist.load_data()\n",
        "\n",
        "# Display information about the dataset\n",
        "print(\"Training set:\")\n",
        "print(\"Number of examples:\", X_train.shape[0])\n",
        "print(\"Shape of each example:\", X_train.shape[1:])\n",
        "print(\"Data type of each pixel:\", X_train.dtype)\n",
        "print(\"Labels:\", y_train.shape)\n",
        "\n",
        "print(\"\\nTest set:\")\n",
        "print(\"Number of examples:\", X_test.shape[0])\n",
        "print(\"Shape of each example:\", X_test.shape[1:])\n",
        "print(\"Data type of each pixel:\", X_test.dtype)\n",
        "print(\"Labels:\", y_test.shape)\n"
      ],
      "metadata": {
        "colab": {
          "base_uri": "https://localhost:8080/"
        },
        "id": "981W9nciTXJ4",
        "outputId": "169c1e6b-3774-44a9-97e4-895851c9c83b"
      },
      "execution_count": null,
      "outputs": [
        {
          "output_type": "stream",
          "name": "stdout",
          "text": [
            "Training set:\n",
            "Number of examples: 60000\n",
            "Shape of each example: (28, 28)\n",
            "Data type of each pixel: uint8\n",
            "Labels: (60000,)\n",
            "\n",
            "Test set:\n",
            "Number of examples: 10000\n",
            "Shape of each example: (28, 28)\n",
            "Data type of each pixel: uint8\n",
            "Labels: (10000,)\n"
          ]
        }
      ]
    },
    {
      "cell_type": "code",
      "source": [
        "import numpy as np\n",
        "import matplotlib.pyplot as plt\n",
        "\n",
        "# Load the MNIST dataset\n",
        "(X_train, y_train), (X_test, y_test) = mnist.load_data()\n",
        "\n",
        "# Display a sample of the training data\n",
        "plt.figure(figsize=(10, 10))\n",
        "for i in range(25):\n",
        "    plt.subplot(5, 5, i+1)\n",
        "    plt.imshow(X_train[i], cmap='gray')\n",
        "    plt.title('Label: %s' % y_train[i])\n",
        "    plt.axis('off')\n",
        "plt.show()\n"
      ],
      "metadata": {
        "colab": {
          "base_uri": "https://localhost:8080/",
          "height": 660
        },
        "id": "qIl9po0LTj4D",
        "outputId": "6d24b637-cb78-4d40-e9bb-c98f4e4ed97b"
      },
      "execution_count": null,
      "outputs": [
        {
          "output_type": "display_data",
          "data": {
            "text/plain": [
              "<Figure size 1000x1000 with 25 Axes>"
            ],
            "image/png": "[encoded data removed]"
          },
          "metadata": {}
        }
      ]
    },
    {
      "cell_type": "code",
      "source": [
        "print( X_train[0])\n",
        "print(y_train[0])"
      ],
      "metadata": {
        "colab": {
          "base_uri": "https://localhost:8080/"
        },
        "id": "LCMeHGCMU054",
        "outputId": "827b1a93-9307-4a43-c463-912cc9409371"
      },
      "execution_count": null,
      "outputs": [
        {
          "output_type": "stream",
          "name": "stdout",
          "text": [
            "[[  0   0   0   0   0   0   0   0   0   0   0   0   0   0   0   0   0   0\n",
            "    0   0   0   0   0   0   0   0   0   0]\n",
            " [  0   0   0   0   0   0   0   0   0   0   0   0   0   0   0   0   0   0\n",
            "    0   0   0   0   0   0   0   0   0   0]\n",
            " [  0   0   0   0   0   0   0   0   0   0   0   0   0   0   0   0   0   0\n",
            "    0   0   0   0   0   0   0   0   0   0]\n",
            " [  0   0   0   0   0   0   0   0   0   0   0   0   0   0   0   0   0   0\n",
            "    0   0   0   0   0   0   0   0   0   0]\n",
            " [  0   0   0   0   0   0   0   0   0   0   0   0   0   0   0   0   0   0\n",
            "    0   0   0   0   0   0   0   0   0   0]\n",
            " [  0   0   0   0   0   0   0   0   0   0   0   0   3  18  18  18 126 136\n",
            "  175  26 166 255 247 127   0   0   0   0]\n",
            " [  0   0   0   0   0   0   0   0  30  36  94 154 170 253 253 253 253 253\n",
            "  225 172 253 242 195  64   0   0   0   0]\n",
            " [  0   0   0   0   0   0   0  49 238 253 253 253 253 253 253 253 253 251\n",
            "   93  82  82  56  39   0   0   0   0   0]\n",
            " [  0   0   0   0   0   0   0  18 219 253 253 253 253 253 198 182 247 241\n",
            "    0   0   0   0   0   0   0   0   0   0]\n",
            " [  0   0   0   0   0   0   0   0  80 156 107 253 253 205  11   0  43 154\n",
            "    0   0   0   0   0   0   0   0   0   0]\n",
            " [  0   0   0   0   0   0   0   0   0  14   1 154 253  90   0   0   0   0\n",
            "    0   0   0   0   0   0   0   0   0   0]\n",
            " [  0   0   0   0   0   0   0   0   0   0   0 139 253 190   2   0   0   0\n",
            "    0   0   0   0   0   0   0   0   0   0]\n",
            " [  0   0   0   0   0   0   0   0   0   0   0  11 190 253  70   0   0   0\n",
            "    0   0   0   0   0   0   0   0   0   0]\n",
            " [  0   0   0   0   0   0   0   0   0   0   0   0  35 241 225 160 108   1\n",
            "    0   0   0   0   0   0   0   0   0   0]\n",
            " [  0   0   0   0   0   0   0   0   0   0   0   0   0  81 240 253 253 119\n",
            "   25   0   0   0   0   0   0   0   0   0]\n",
            " [  0   0   0   0   0   0   0   0   0   0   0   0   0   0  45 186 253 253\n",
            "  150  27   0   0   0   0   0   0   0   0]\n",
            " [  0   0   0   0   0   0   0   0   0   0   0   0   0   0   0  16  93 252\n",
            "  253 187   0   0   0   0   0   0   0   0]\n",
            " [  0   0   0   0   0   0   0   0   0   0   0   0   0   0   0   0   0 249\n",
            "  253 249  64   0   0   0   0   0   0   0]\n",
            " [  0   0   0   0   0   0   0   0   0   0   0   0   0   0  46 130 183 253\n",
            "  253 207   2   0   0   0   0   0   0   0]\n",
            " [  0   0   0   0   0   0   0   0   0   0   0   0  39 148 229 253 253 253\n",
            "  250 182   0   0   0   0   0   0   0   0]\n",
            " [  0   0   0   0   0   0   0   0   0   0  24 114 221 253 253 253 253 201\n",
            "   78   0   0   0   0   0   0   0   0   0]\n",
            " [  0   0   0   0   0   0   0   0  23  66 213 253 253 253 253 198  81   2\n",
            "    0   0   0   0   0   0   0   0   0   0]\n",
            " [  0   0   0   0   0   0  18 171 219 253 253 253 253 195  80   9   0   0\n",
            "    0   0   0   0   0   0   0   0   0   0]\n",
            " [  0   0   0   0  55 172 226 253 253 253 253 244 133  11   0   0   0   0\n",
            "    0   0   0   0   0   0   0   0   0   0]\n",
            " [  0   0   0   0 136 253 253 253 212 135 132  16   0   0   0   0   0   0\n",
            "    0   0   0   0   0   0   0   0   0   0]\n",
            " [  0   0   0   0   0   0   0   0   0   0   0   0   0   0   0   0   0   0\n",
            "    0   0   0   0   0   0   0   0   0   0]\n",
            " [  0   0   0   0   0   0   0   0   0   0   0   0   0   0   0   0   0   0\n",
            "    0   0   0   0   0   0   0   0   0   0]\n",
            " [  0   0   0   0   0   0   0   0   0   0   0   0   0   0   0   0   0   0\n",
            "    0   0   0   0   0   0   0   0   0   0]]\n",
            "5\n"
          ]
        }
      ]
    },
    {
      "cell_type": "code",
      "source": [
        "# reshape to be [samples][pixels][width][height]\n",
        "X_train = X_train.reshape(X_train.shape[0], 1, 28,28).astype('float32')\n",
        "X_test = X_test.reshape(X_test.shape[0], 1, 28, 28).astype('float32')\n"
      ],
      "metadata": {
        "id": "7Bpg4HtMT-IQ"
      },
      "execution_count": null,
      "outputs": []
    },
    {
      "cell_type": "code",
      "source": [
        "print(\"Shape of X_train:\", X_train.shape)\n",
        "print(\"Shape of X_test:\", X_test.shape)\n"
      ],
      "metadata": {
        "colab": {
          "base_uri": "https://localhost:8080/"
        },
        "id": "GFPaGYztUK7G",
        "outputId": "7f614509-9f6b-4d79-9642-fa0f1ff99bb9"
      },
      "execution_count": null,
      "outputs": [
        {
          "output_type": "stream",
          "name": "stdout",
          "text": [
            "Shape of X_train: (60000, 1, 28, 28)\n",
            "Shape of X_test: (10000, 1, 28, 28)\n"
          ]
        }
      ]
    },
    {
      "cell_type": "code",
      "source": [
        "from keras.utils import to_categorical\n",
        "\n",
        "# One-hot encode outputs\n",
        "y_train = to_categorical(y_train)\n",
        "y_test = to_categorical(y_test)\n",
        "\n",
        "# Get the number of classes\n",
        "num_classes = y_test.shape[1]\n",
        "\n"
      ],
      "metadata": {
        "id": "A0QFSWh3XapA"
      },
      "execution_count": null,
      "outputs": []
    },
    {
      "cell_type": "code",
      "source": [
        "from keras.datasets import mnist\n",
        "from keras.utils import to_categorical\n",
        "\n",
        "def get_data_mnist():\n",
        "    # Load MNIST dataset\n",
        "    (X_train, y_train), (X_test, y_test) = mnist.load_data()\n",
        "\n",
        "    # Reshape and normalize input images\n",
        "    X_train = X_train.reshape(X_train.shape[0], 1, 28, 28).astype('float32') / 255.0\n",
        "    X_test = X_test.reshape(X_test.shape[0], 1, 28, 28).astype('float32') / 255.0\n",
        "\n",
        "    # One-hot encode outputs\n",
        "    y_train = to_categorical(y_train)\n",
        "    y_test = to_categorical(y_test)\n",
        "\n",
        "    # Get the number of classes\n",
        "    num_classes = y_test.shape[1]\n",
        "\n",
        "    return (X_train, y_train), (X_test, y_test), num_classes\n"
      ],
      "metadata": {
        "id": "XNLB0GUWYSve"
      },
      "execution_count": null,
      "outputs": []
    },
    {
      "cell_type": "code",
      "source": [
        "# create model\n",
        "model = Sequential()\n",
        "model.add(Conv2D(64, (3, 3), input_shape=(1, 28, 28), activation='relu'))\n",
        "model.add(Conv2D(32, (3, 3), activation='relu'))\n",
        "model.add(Flatten())\n",
        "model.add(Dense(num_classes, activation='softmax'))\n"
      ],
      "metadata": {
        "id": "MHwUB-xTYmVX"
      },
      "execution_count": null,
      "outputs": []
    },
    {
      "cell_type": "code",
      "source": [
        "# Compile the model\n",
        "model.compile(loss='categorical_crossentropy', optimizer='adam', metrics=['accuracy'])\n"
      ],
      "metadata": {
        "id": "l1iWqh5vY7S_"
      },
      "execution_count": null,
      "outputs": []
    },
    {
      "cell_type": "code",
      "source": [
        "def small_model():\n",
        "  # create model\n",
        "  model = Sequential()\n",
        "  model.add(Conv2D(64, (3, 3), input_shape=(1, 28, 28),activation='relu'))\n",
        "  model.add(Conv2D(32, (3, 3), activation='relu'))\n",
        "  model.add(Flatten())\n",
        "  model.add(Dense(num_classes, activation='softmax'))\n",
        "  #compile model\n",
        "  model.compile(optimizer=\"adam\",loss=\"categorical_crossentropy\",metrics=\"accuracy\")\n",
        "  return model"
      ],
      "metadata": {
        "id": "PLFFsAe9bj-E"
      },
      "execution_count": null,
      "outputs": []
    },
    {
      "cell_type": "code",
      "source": [
        "\n",
        "model = small_model()\n",
        "(X_train, y_train), (X_test, y_test), num_classes = get_data_mnist()\n",
        "model.fit(X_train, y_train, validation_data=(X_test, y_test), epochs=10, batch_size=200)\n"
      ],
      "metadata": {
        "colab": {
          "base_uri": "https://localhost:8080/"
        },
        "id": "wC_PFPmwZRWL",
        "outputId": "ef275e58-5346-4a3f-b4ff-0b14030f5f01"
      },
      "execution_count": null,
      "outputs": [
        {
          "output_type": "stream",
          "name": "stdout",
          "text": [
            "Epoch 1/10\n",
            "300/300 [==============================] - 9s 16ms/step - loss: 0.2268 - accuracy: 0.9338 - val_loss: 0.0616 - val_accuracy: 0.9810\n",
            "Epoch 2/10\n",
            "300/300 [==============================] - 4s 12ms/step - loss: 0.0634 - accuracy: 0.9810 - val_loss: 0.0512 - val_accuracy: 0.9832\n",
            "Epoch 3/10\n",
            "300/300 [==============================] - 5s 16ms/step - loss: 0.0442 - accuracy: 0.9865 - val_loss: 0.0440 - val_accuracy: 0.9857\n",
            "Epoch 4/10\n",
            "300/300 [==============================] - 6s 20ms/step - loss: 0.0338 - accuracy: 0.9897 - val_loss: 0.0453 - val_accuracy: 0.9845\n",
            "Epoch 5/10\n",
            "300/300 [==============================] - 5s 16ms/step - loss: 0.0259 - accuracy: 0.9918 - val_loss: 0.0428 - val_accuracy: 0.9867\n",
            "Epoch 6/10\n",
            "300/300 [==============================] - 4s 14ms/step - loss: 0.0204 - accuracy: 0.9937 - val_loss: 0.0456 - val_accuracy: 0.9871\n",
            "Epoch 7/10\n",
            "300/300 [==============================] - 3s 11ms/step - loss: 0.0154 - accuracy: 0.9950 - val_loss: 0.0439 - val_accuracy: 0.9861\n",
            "Epoch 8/10\n",
            "300/300 [==============================] - 3s 9ms/step - loss: 0.0124 - accuracy: 0.9964 - val_loss: 0.0525 - val_accuracy: 0.9852\n",
            "Epoch 9/10\n",
            "300/300 [==============================] - 3s 9ms/step - loss: 0.0117 - accuracy: 0.9960 - val_loss: 0.0551 - val_accuracy: 0.9844\n",
            "Epoch 10/10\n",
            "300/300 [==============================] - 3s 9ms/step - loss: 0.0085 - accuracy: 0.9973 - val_loss: 0.0497 - val_accuracy: 0.9869\n"
          ]
        },
        {
          "output_type": "execute_result",
          "data": {
            "text/plain": [
              "<keras.src.callbacks.History at 0x7a19ee24a020>"
            ]
          },
          "metadata": {},
          "execution_count": 18
        }
      ]
    },
    {
      "cell_type": "code",
      "source": [
        "loss, accuracy = model.evaluate(X_test, y_test)\n",
        "print(\"Test Loss:\", loss)\n",
        "print(\"Test Accuracy:\", accuracy)"
      ],
      "metadata": {
        "colab": {
          "base_uri": "https://localhost:8080/"
        },
        "id": "y-XT-JVseaeZ",
        "outputId": "91a35583-3626-4f84-ceea-5d9a8abf0c03"
      },
      "execution_count": null,
      "outputs": [
        {
          "output_type": "stream",
          "name": "stdout",
          "text": [
            "313/313 [==============================] - 1s 3ms/step - loss: 0.0497 - accuracy: 0.9869\n",
            "Test Loss: 0.04965093359351158\n",
            "Test Accuracy: 0.9868999719619751\n"
          ]
        }
      ]
    },
    {
      "cell_type": "code",
      "source": [
        "def print_model_error_rate(model, X_test, y_test):\n",
        "    # Final evaluation of the model\n",
        "    scores = model.evaluate(X_test, y_test, verbose=0)\n",
        "    accuracy = scores[1] * 100\n",
        "    error_rate = 100 - accuracy\n",
        "    print(\"Model score: %.2f%%\" % accuracy)\n",
        "    print(\"Model error rate: %.2f%%\" % error_rate)\n"
      ],
      "metadata": {
        "id": "ltUBf-5Ae17G"
      },
      "execution_count": null,
      "outputs": []
    },
    {
      "cell_type": "code",
      "source": [
        "# Train the model\n",
        "history = model.fit(X_train, y_train, validation_data=(X_test, y_test), epochs=10, batch_size=200)\n",
        "\n",
        "# Evaluate the model and print error rate\n",
        "print_model_error_rate(model, X_test, y_test)\n"
      ],
      "metadata": {
        "colab": {
          "base_uri": "https://localhost:8080/"
        },
        "id": "nsrGNO13e4jP",
        "outputId": "6ea2416a-f51a-45bb-c2bf-ea98689b308d"
      },
      "execution_count": null,
      "outputs": [
        {
          "output_type": "stream",
          "name": "stdout",
          "text": [
            "Epoch 1/10\n",
            "300/300 [==============================] - 3s 9ms/step - loss: 0.0067 - accuracy: 0.9979 - val_loss: 0.0562 - val_accuracy: 0.9857\n",
            "Epoch 2/10\n",
            "300/300 [==============================] - 3s 9ms/step - loss: 0.0045 - accuracy: 0.9987 - val_loss: 0.0604 - val_accuracy: 0.9860\n",
            "Epoch 3/10\n",
            "300/300 [==============================] - 3s 9ms/step - loss: 0.0052 - accuracy: 0.9983 - val_loss: 0.0662 - val_accuracy: 0.9845\n",
            "Epoch 4/10\n",
            "300/300 [==============================] - 5s 16ms/step - loss: 0.0073 - accuracy: 0.9977 - val_loss: 0.0671 - val_accuracy: 0.9849\n",
            "Epoch 5/10\n",
            "300/300 [==============================] - 3s 9ms/step - loss: 0.0038 - accuracy: 0.9988 - val_loss: 0.0628 - val_accuracy: 0.9865\n",
            "Epoch 6/10\n",
            "300/300 [==============================] - 3s 9ms/step - loss: 0.0030 - accuracy: 0.9989 - val_loss: 0.0693 - val_accuracy: 0.9859\n",
            "Epoch 7/10\n",
            "300/300 [==============================] - 3s 9ms/step - loss: 0.0040 - accuracy: 0.9986 - val_loss: 0.0758 - val_accuracy: 0.9847\n",
            "Epoch 8/10\n",
            "300/300 [==============================] - 3s 9ms/step - loss: 0.0039 - accuracy: 0.9988 - val_loss: 0.0718 - val_accuracy: 0.9862\n",
            "Epoch 9/10\n",
            "300/300 [==============================] - 3s 10ms/step - loss: 0.0027 - accuracy: 0.9991 - val_loss: 0.0664 - val_accuracy: 0.9863\n",
            "Epoch 10/10\n",
            "300/300 [==============================] - 3s 9ms/step - loss: 0.0036 - accuracy: 0.9988 - val_loss: 0.0796 - val_accuracy: 0.9842\n",
            "Model score: 98.42%\n",
            "Model error rate: 1.58%\n"
          ]
        }
      ]
    },
    {
      "cell_type": "code",
      "source": [
        "from keras.datasets import mnist\n",
        "from keras.utils import to_categorical\n",
        "\n",
        "def get_data_mnist_normalized():\n",
        "    # Load MNIST dataset\n",
        "    (X_train, y_train), (X_test, y_test) = mnist.load_data()\n",
        "\n",
        "    # Reshape and normalize input images\n",
        "    X_train = X_train.reshape(X_train.shape[0], 1, 28, 28).astype('float32') / 255.0\n",
        "    X_test = X_test.reshape(X_test.shape[0], 1, 28, 28).astype('float32') / 255.0\n",
        "\n",
        "    # One-hot encode outputs\n",
        "    y_train = to_categorical(y_train)\n",
        "    y_test = to_categorical(y_test)\n",
        "\n",
        "    # Get the number of classes\n",
        "    num_classes = y_test.shape[1]\n",
        "\n",
        "    return (X_train, y_train), (X_test, y_test), num_classes\n"
      ],
      "metadata": {
        "id": "CpSLvfKvf14t"
      },
      "execution_count": null,
      "outputs": []
    },
    {
      "cell_type": "code",
      "source": [
        "# Get normalized data\n",
        "(X_train_normalized, y_train), (X_test_normalized, y_test), num_classes = get_data_mnist_normalized()\n",
        "\n",
        "# Create and train the model with normalized data\n",
        "model_normalized = small_model()\n",
        "history_normalized = model_normalized.fit(X_train_normalized, y_train, validation_data=(X_test_normalized, y_test), epochs=10, batch_size=200)\n",
        "\n",
        "# Evaluate the model with normalized data\n",
        "print_model_error_rate(model_normalized, X_test_normalized, y_test)\n"
      ],
      "metadata": {
        "colab": {
          "base_uri": "https://localhost:8080/"
        },
        "id": "etFK_Wi1gJ9X",
        "outputId": "f25ca09c-3227-454e-a4fe-e649d8d64cde"
      },
      "execution_count": null,
      "outputs": [
        {
          "output_type": "stream",
          "name": "stdout",
          "text": [
            "Epoch 1/10\n",
            "300/300 [==============================] - 4s 10ms/step - loss: 0.2332 - accuracy: 0.9333 - val_loss: 0.0653 - val_accuracy: 0.9799\n",
            "Epoch 2/10\n",
            "300/300 [==============================] - 3s 9ms/step - loss: 0.0652 - accuracy: 0.9802 - val_loss: 0.0556 - val_accuracy: 0.9825\n",
            "Epoch 3/10\n",
            "300/300 [==============================] - 3s 9ms/step - loss: 0.0443 - accuracy: 0.9867 - val_loss: 0.0427 - val_accuracy: 0.9856\n",
            "Epoch 4/10\n",
            "300/300 [==============================] - 3s 9ms/step - loss: 0.0359 - accuracy: 0.9894 - val_loss: 0.0449 - val_accuracy: 0.9863\n",
            "Epoch 5/10\n",
            "300/300 [==============================] - 3s 10ms/step - loss: 0.0266 - accuracy: 0.9917 - val_loss: 0.0491 - val_accuracy: 0.9846\n",
            "Epoch 6/10\n",
            "300/300 [==============================] - 3s 9ms/step - loss: 0.0196 - accuracy: 0.9938 - val_loss: 0.0492 - val_accuracy: 0.9869\n",
            "Epoch 7/10\n",
            "300/300 [==============================] - 3s 9ms/step - loss: 0.0148 - accuracy: 0.9955 - val_loss: 0.0455 - val_accuracy: 0.9867\n",
            "Epoch 8/10\n",
            "300/300 [==============================] - 3s 9ms/step - loss: 0.0133 - accuracy: 0.9958 - val_loss: 0.0502 - val_accuracy: 0.9864\n",
            "Epoch 9/10\n",
            "300/300 [==============================] - 3s 10ms/step - loss: 0.0121 - accuracy: 0.9958 - val_loss: 0.0520 - val_accuracy: 0.9860\n",
            "Epoch 10/10\n",
            "300/300 [==============================] - 3s 10ms/step - loss: 0.0088 - accuracy: 0.9974 - val_loss: 0.0546 - val_accuracy: 0.9868\n",
            "Model score: 98.68%\n",
            "Model error rate: 1.32%\n"
          ]
        }
      ]
    },
    {
      "cell_type": "code",
      "source": [
        "from keras.models import Sequential\n",
        "from keras.layers import Conv2D, MaxPooling2D, Dropout, Flatten, Dense\n",
        "\n",
        "def medium_CNN(input_shape, num_classes):\n",
        "    # Create model\n",
        "    model = Sequential()\n",
        "\n",
        "    # Convolutional layer with 32 filters of size 5x5 and ReLU activation\n",
        "    model.add(Conv2D(32, (5, 5), input_shape=input_shape, activation='relu'))\n",
        "\n",
        "    # Max pooling layer with pool size of 2x2\n",
        "    model.add(MaxPooling2D(pool_size=(2, 2)))\n",
        "\n",
        "    # Dropout layer with dropout rate of 0.2\n",
        "    model.add(Dropout(0.2))\n",
        "\n",
        "    # Flatten layer\n",
        "    model.add(Flatten())\n",
        "\n",
        "    # Dense layer with 128 units and ReLU activation\n",
        "    model.add(Dense(128, activation='relu'))\n",
        "\n",
        "    # Output layer with num_classes units and softmax activation\n",
        "    model.add(Dense(num_classes, activation='softmax'))\n",
        "\n",
        "    return model\n",
        "\n",
        "# Get the shape of input data\n",
        "input_shape = (1, 28, 28)\n",
        "\n",
        "# Get the number of classes\n",
        "num_classes = 10  # MNIST has 10 classes (digits 0-9)\n",
        "\n",
        "# Build the medium_CNN model\n",
        "model_medium = medium_CNN(input_shape, num_classes)\n",
        "\n",
        "# Compile the model\n",
        "model_medium.compile(optimizer='adam', loss='categorical_crossentropy', metrics=['accuracy'])\n",
        "\n",
        "# Train the model\n",
        "history_medium = model_medium.fit(X_train_normalized, y_train, validation_data=(X_test_normalized, y_test), epochs=10, batch_size=200)\n",
        "\n",
        "# Evaluate the model\n",
        "print_model_error_rate(model_medium, X_test_normalized, y_test)\n"
      ],
      "metadata": {
        "colab": {
          "base_uri": "https://localhost:8080/"
        },
        "id": "WsbIqu27gp56",
        "outputId": "a4ef715c-f758-4b28-a580-6c88baf0b996"
      },
      "execution_count": null,
      "outputs": [
        {
          "output_type": "stream",
          "name": "stdout",
          "text": [
            "Epoch 1/10\n",
            "300/300 [==============================] - 4s 6ms/step - loss: 0.2334 - accuracy: 0.9351 - val_loss: 0.0728 - val_accuracy: 0.9772\n",
            "Epoch 2/10\n",
            "300/300 [==============================] - 2s 5ms/step - loss: 0.0678 - accuracy: 0.9802 - val_loss: 0.0482 - val_accuracy: 0.9849\n",
            "Epoch 3/10\n",
            "300/300 [==============================] - 1s 4ms/step - loss: 0.0482 - accuracy: 0.9855 - val_loss: 0.0438 - val_accuracy: 0.9851\n",
            "Epoch 4/10\n",
            "300/300 [==============================] - 1s 4ms/step - loss: 0.0380 - accuracy: 0.9886 - val_loss: 0.0372 - val_accuracy: 0.9865\n",
            "Epoch 5/10\n",
            "300/300 [==============================] - 1s 4ms/step - loss: 0.0311 - accuracy: 0.9902 - val_loss: 0.0358 - val_accuracy: 0.9876\n",
            "Epoch 6/10\n",
            "300/300 [==============================] - 1s 4ms/step - loss: 0.0253 - accuracy: 0.9919 - val_loss: 0.0338 - val_accuracy: 0.9891\n",
            "Epoch 7/10\n",
            "300/300 [==============================] - 1s 4ms/step - loss: 0.0211 - accuracy: 0.9930 - val_loss: 0.0319 - val_accuracy: 0.9891\n",
            "Epoch 8/10\n",
            "300/300 [==============================] - 1s 4ms/step - loss: 0.0172 - accuracy: 0.9943 - val_loss: 0.0328 - val_accuracy: 0.9893\n",
            "Epoch 9/10\n",
            "300/300 [==============================] - 1s 4ms/step - loss: 0.0147 - accuracy: 0.9952 - val_loss: 0.0363 - val_accuracy: 0.9891\n",
            "Epoch 10/10\n",
            "300/300 [==============================] - 1s 4ms/step - loss: 0.0132 - accuracy: 0.9959 - val_loss: 0.0340 - val_accuracy: 0.9899\n",
            "Model score: 98.99%\n",
            "Model error rate: 1.01%\n"
          ]
        }
      ]
    },
    {
      "cell_type": "code",
      "source": [
        "from keras.models import Sequential\n",
        "from keras.layers import Conv2D, MaxPooling2D, Dropout, Flatten, Dense\n",
        "\n",
        "def large_CNN(input_shape, num_classes):\n",
        "    # Create model\n",
        "    model = Sequential()\n",
        "\n",
        "    # Convolutional layer with 30 filters of size 5x5 and ReLU activation\n",
        "    model.add(Conv2D(30, (5, 5), input_shape=input_shape, activation='relu'))\n",
        "\n",
        "    # Max pooling layer with pool size of 2x2\n",
        "    model.add(MaxPooling2D(pool_size=(2, 2)))\n",
        "\n",
        "    # Convolutional layer with 15 filters of size 3x3 and ReLU activation\n",
        "    model.add(Conv2D(15, (3, 3), activation='relu'))\n",
        "\n",
        "    # Dropout layer with dropout rate of 0.2\n",
        "    model.add(Dropout(0.2))\n",
        "\n",
        "    # Flatten layer\n",
        "    model.add(Flatten())\n",
        "\n",
        "    # Dense layer with 128 units and ReLU activation\n",
        "    model.add(Dense(128, activation='relu'))\n",
        "\n",
        "    # Dense layer with 50 units and ReLU activation\n",
        "    model.add(Dense(50, activation='relu'))\n",
        "\n",
        "    # Output layer with num_classes units and softmax activation\n",
        "    model.add(Dense(num_classes, activation='softmax'))\n",
        "\n",
        "    return model\n",
        "\n",
        "# Get the shape of input data\n",
        "input_shape = (1, 28, 28)\n",
        "\n",
        "# Get the number of classes\n",
        "num_classes = 10  # MNIST has 10 classes (digits 0-9)\n",
        "\n",
        "# Build the large_CNN model\n",
        "model_large = large_CNN(input_shape, num_classes)\n",
        "\n",
        "# Compile the model\n",
        "model_large.compile(optimizer='adam', loss='categorical_crossentropy', metrics=['accuracy'])\n",
        "\n",
        "# Train the model\n",
        "history_large = model_large.fit(X_train_normalized, y_train, validation_data=(X_test_normalized, y_test), epochs=10, batch_size=200)\n",
        "\n",
        "# Evaluate the model\n",
        "print_model_error_rate(model_large, X_test_normalized, y_test)\n"
      ],
      "metadata": {
        "colab": {
          "base_uri": "https://localhost:8080/"
        },
        "id": "yNw2V9GGgzUQ",
        "outputId": "8415ba44-c2f6-4fa0-fcdd-4eca47817541"
      },
      "execution_count": null,
      "outputs": [
        {
          "output_type": "stream",
          "name": "stdout",
          "text": [
            "Epoch 1/10\n",
            "300/300 [==============================] - 4s 5ms/step - loss: 0.2989 - accuracy: 0.9099 - val_loss: 0.0781 - val_accuracy: 0.9758\n",
            "Epoch 2/10\n",
            "300/300 [==============================] - 1s 5ms/step - loss: 0.0786 - accuracy: 0.9761 - val_loss: 0.0476 - val_accuracy: 0.9840\n",
            "Epoch 3/10\n",
            "300/300 [==============================] - 1s 5ms/step - loss: 0.0563 - accuracy: 0.9828 - val_loss: 0.0411 - val_accuracy: 0.9875\n",
            "Epoch 4/10\n",
            "300/300 [==============================] - 2s 6ms/step - loss: 0.0433 - accuracy: 0.9867 - val_loss: 0.0356 - val_accuracy: 0.9885\n",
            "Epoch 5/10\n",
            "300/300 [==============================] - 3s 11ms/step - loss: 0.0375 - accuracy: 0.9882 - val_loss: 0.0387 - val_accuracy: 0.9880\n",
            "Epoch 6/10\n",
            "300/300 [==============================] - 1s 5ms/step - loss: 0.0315 - accuracy: 0.9899 - val_loss: 0.0310 - val_accuracy: 0.9901\n",
            "Epoch 7/10\n",
            "300/300 [==============================] - 1s 4ms/step - loss: 0.0253 - accuracy: 0.9923 - val_loss: 0.0322 - val_accuracy: 0.9897\n",
            "Epoch 8/10\n",
            "300/300 [==============================] - 1s 5ms/step - loss: 0.0228 - accuracy: 0.9923 - val_loss: 0.0297 - val_accuracy: 0.9906\n",
            "Epoch 9/10\n",
            "300/300 [==============================] - 1s 4ms/step - loss: 0.0199 - accuracy: 0.9933 - val_loss: 0.0269 - val_accuracy: 0.9915\n",
            "Epoch 10/10\n",
            "300/300 [==============================] - 1s 4ms/step - loss: 0.0179 - accuracy: 0.9940 - val_loss: 0.0415 - val_accuracy: 0.9871\n",
            "Model score: 98.71%\n",
            "Model error rate: 1.29%\n"
          ]
        }
      ]
    },
    {
      "cell_type": "markdown",
      "source": [
        "### 6. Sauvegarde et chargements des modèles Keras :"
      ],
      "metadata": {
        "id": "QR2P8gsfhS-g"
      }
    },
    {
      "cell_type": "code",
      "source": [
        "from keras.models import model_from_json\n",
        "\n",
        "# This function saves a model on the drive using two files: a json and a h5\n",
        "def save_keras_model(model, filename):\n",
        "    # serialize model to JSON\n",
        "    model_json = model.to_json()\n",
        "    with open(filename + \".json\", \"w\") as json_file:\n",
        "        json_file.write(model_json)\n",
        "    # serialize weights to HDF5\n",
        "    model.save_weights(filename + \".h5\")\n",
        "\n",
        "# Save the model\n",
        "save_keras_model(model_large, \"large_cnn_model\")\n"
      ],
      "metadata": {
        "id": "uOZ_4ktzhV8r"
      },
      "execution_count": null,
      "outputs": []
    },
    {
      "cell_type": "code",
      "source": [
        "def load_keras_model(filename):\n",
        "    # Load model architecture from JSON file\n",
        "    with open(filename + \".json\", \"r\") as json_file:\n",
        "        loaded_model_json = json_file.read()\n",
        "    loaded_model = model_from_json(loaded_model_json)\n",
        "    # Load weights into the loaded model\n",
        "    loaded_model.load_weights(filename + \".h5\")\n",
        "    return loaded_model\n",
        "\n",
        "# Load the saved model\n",
        "loaded_model = load_keras_model(\"large_cnn_model\")\n",
        "\n"
      ],
      "metadata": {
        "id": "1o3MtLDSiTQ_"
      },
      "execution_count": null,
      "outputs": []
    },
    {
      "cell_type": "code",
      "source": [
        "from keras.models import model_from_json\n",
        "\n",
        "# This function loads a model from two files: a json and a h5\n",
        "# BE CAREFUL: the model NEEDS TO BE COMPILED before any use!\n",
        "def load_keras_model(filename):\n",
        "    # load json and create model\n",
        "    with open(filename + \".json\", \"r\") as json_file:\n",
        "        loaded_model_json = json_file.read()\n",
        "    loaded_model = model_from_json(loaded_model_json)\n",
        "\n",
        "    # load weights into new model\n",
        "    loaded_model.load_weights(filename + \".h5\")\n",
        "\n",
        "    return loaded_model\n",
        "\n",
        "# Load the model\n",
        "loaded_model = load_keras_model(\"large_cnn_model\")\n",
        "\n",
        "# Compile the loaded model before using it\n",
        "loaded_model.compile(optimizer='adam', loss='categorical_crossentropy', metrics=['accuracy'])\n"
      ],
      "metadata": {
        "id": "W90ePQcgiq77"
      },
      "execution_count": null,
      "outputs": []
    },
    {
      "cell_type": "code",
      "source": [
        "# Sauvegarde du modèle\n",
        "save_keras_model(model_large, \"large_cnn_model\")\n"
      ],
      "metadata": {
        "id": "ZrYthPRcjjDs"
      },
      "execution_count": null,
      "outputs": []
    },
    {
      "cell_type": "code",
      "source": [
        "# Chargement du modèle\n",
        "loaded_model = load_keras_model(\"large_cnn_model\")\n",
        "\n",
        "# Compilation du modèle chargé\n",
        "loaded_model.compile(optimizer='adam', loss='categorical_crossentropy', metrics=['accuracy'])\n"
      ],
      "metadata": {
        "id": "tZdpZBxfjkJA"
      },
      "execution_count": null,
      "outputs": []
    },
    {
      "cell_type": "code",
      "source": [
        "# Évaluation du modèle chargé\n",
        "scores = loaded_model.evaluate(X_test, y_test, verbose=0)\n",
        "\n",
        "# Affichage des performances du modèle\n",
        "print(\"Model score: %.2f%%\" % (scores[1] * 100))\n",
        "print(\"Model error rate: %.2f%%\" % ((1 - scores[1]) * 100))\n"
      ],
      "metadata": {
        "colab": {
          "base_uri": "https://localhost:8080/"
        },
        "id": "cwt5t7ztjmuL",
        "outputId": "b6acd8af-0ba4-48cc-e29e-f7dfc2563916"
      },
      "execution_count": null,
      "outputs": [
        {
          "output_type": "stream",
          "name": "stdout",
          "text": [
            "Model score: 98.71%\n",
            "Model error rate: 1.29%\n"
          ]
        }
      ]
    },
    {
      "cell_type": "code",
      "source": [
        "import numpy as np\n",
        "from tensorflow.keras.preprocessing import image\n",
        "\n",
        "# Load your single image\n",
        "img_path = \"/content/7.png\"\n",
        "img = image.load_img(img_path, target_size=(28, 28), color_mode='grayscale')\n",
        "img_array = image.img_to_array(img)\n",
        "img_array = np.expand_dims(img_array, axis=0)\n",
        "\n",
        "# Normalize the image data\n",
        "img_array = img_array / 255.0\n",
        "\n",
        "# Make predictions\n",
        "predictions = loaded_model.predict(img_array)\n",
        "\n",
        "# Get the predicted class\n",
        "predicted_class = np.argmax(predictions)\n",
        "\n",
        "# Print the predicted class\n",
        "print(\"Predicted class:\", predicted_class)\n"
      ],
      "metadata": {
        "colab": {
          "base_uri": "https://localhost:8080/"
        },
        "id": "WojEVEXXjvjk",
        "outputId": "a9bbe185-36f3-4c5e-977b-b7832b647180"
      },
      "execution_count": null,
      "outputs": [
        {
          "output_type": "stream",
          "name": "stdout",
          "text": [
            "1/1 [==============================] - 0s 204ms/step\n",
            "Predicted class: 7\n"
          ]
        }
      ]
    }
  ]
}